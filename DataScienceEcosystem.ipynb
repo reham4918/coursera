{
 "cells": [
  {
   "cell_type": "markdown",
   "id": "4282c0e3-b3b9-4b54-8c03-c83e64aabda6",
   "metadata": {},
   "source": [
    "# Data science Tools and Ecosystem"
   ]
  },
  {
   "cell_type": "markdown",
   "id": "12f7ff7e-5eee-409d-bb0a-d2f07a2a1ed7",
   "metadata": {},
   "source": [
    "for this notebook, we will summarize Data Science Tools and Ecosystems"
   ]
  },
  {
   "cell_type": "markdown",
   "id": "c63bae96-b579-42b7-92db-4826ce09dca3",
   "metadata": {},
   "source": [
    "Data science use popular languages:\n",
    "1. python \n",
    "2. R\n",
    "3. SQL\n",
    "4. C++\n",
    "5. Java etc..;"
   ]
  },
  {
   "cell_type": "markdown",
   "id": "7b960dd0-995b-410d-8378-d255f7d94cb4",
   "metadata": {},
   "source": [
    "comonnly used libraries used by data scientists:\n",
    "1. Tensorflow.\n",
    "2. NumPy.\n",
    "3. SciPy.\n",
    "4. Pandas.\n",
    "5. Matplotlib.\n",
    "6. Keras.\n",
    "7. Scikit-Learn.\n",
    "8. PyTorch. etc..;"
   ]
  },
  {
   "cell_type": "markdown",
   "id": "b2f0f27a-e316-48cc-9252-778e0e7575e9",
   "metadata": {},
   "source": [
    "|Data Science Tools|\n",
    "|---|\n",
    "|SAS|\n",
    "|Apache Hadoop|\n",
    "|Tensorflow|"
   ]
  },
  {
   "cell_type": "markdown",
   "id": "67e440d9-bf5b-458d-a106-9dcc09cc9172",
   "metadata": {},
   "source": [
    "# examples of evaluating arithmetic expressions in Python"
   ]
  },
  {
   "cell_type": "code",
   "execution_count": 3,
   "id": "01cd0e3e-ca44-40aa-8ad0-e2bda623087c",
   "metadata": {},
   "outputs": [
    {
     "data": {
      "text/plain": [
       "28"
      ]
     },
     "execution_count": 3,
     "metadata": {},
     "output_type": "execute_result"
    }
   ],
   "source": [
    "# mutiply then add integers\n",
    "(6*3)+10"
   ]
  },
  {
   "cell_type": "code",
   "execution_count": 4,
   "id": "cd9b93b8-0dbe-4b3b-a886-cbf8877d3eb1",
   "metadata": {},
   "outputs": [
    {
     "name": "stdout",
     "output_type": "stream",
     "text": [
      "120 minutes is equal to 2.0 hours.\n"
     ]
    }
   ],
   "source": [
    "# Convert minutes to hours\n",
    "def minutes_to_hours(minutes):\n",
    "    hours = minutes / 60\n",
    "    return hours\n",
    "\n",
    "# Test the function\n",
    "minutes = 120\n",
    "hours = minutes_to_hours(minutes)\n",
    "print(f\"{minutes} minutes is equal to {hours} hours.\")\n"
   ]
  },
  {
   "cell_type": "markdown",
   "id": "4cee3da3-4657-42dc-8407-fe6702f144d8",
   "metadata": {},
   "source": [
    "__Objectives__\n",
    "* List popular languages for Data Science\n",
    "* List popular libraries for Data Science\n",
    "* List of well known Data Science Tools\n",
    "* How to provide comments in the cell"
   ]
  },
  {
   "cell_type": "markdown",
   "id": "c1682031-1c91-424e-a1c9-ac36c12eb983",
   "metadata": {},
   "source": [
    "## Author\n",
    "Ryham houari"
   ]
  },
  {
   "cell_type": "code",
   "execution_count": null,
   "id": "e274f74a-dfad-446d-826a-0df3380dc753",
   "metadata": {},
   "outputs": [],
   "source": []
  }
 ],
 "metadata": {
  "kernelspec": {
   "display_name": "Python 3 (ipykernel)",
   "language": "python",
   "name": "python3"
  },
  "language_info": {
   "codemirror_mode": {
    "name": "ipython",
    "version": 3
   },
   "file_extension": ".py",
   "mimetype": "text/x-python",
   "name": "python",
   "nbconvert_exporter": "python",
   "pygments_lexer": "ipython3",
   "version": "3.10.5"
  }
 },
 "nbformat": 4,
 "nbformat_minor": 5
}
